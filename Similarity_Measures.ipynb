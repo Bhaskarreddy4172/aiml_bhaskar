{
 "cells": [
  {
   "cell_type": "code",
   "execution_count": 3,
   "id": "1bc58f61-a4fa-4068-a80f-84bccc1e22db",
   "metadata": {},
   "outputs": [],
   "source": [
    "import numpy as np\n",
    "from scipy.spatial.distance import cosine,euclidean\n",
    "from scipy.stats import pearsonr"
   ]
  },
  {
   "cell_type": "code",
   "execution_count": 5,
   "id": "b3766d3c-3265-4f9b-b648-e79af4046553",
   "metadata": {},
   "outputs": [],
   "source": [
    "#Sample user rating data on a scale of %\n",
    "user1 = np.array([4,5,2,3,4])\n",
    "user2 = np.array([5,3,2,4,5])"
   ]
  },
  {
   "cell_type": "code",
   "execution_count": 15,
   "id": "bfb9f4c7-0b9a-476a-b295-ab4b5ee28135",
   "metadata": {},
   "outputs": [
    {
     "name": "stdout",
     "output_type": "stream",
     "text": [
      "Cosine Similarity: 0.9548\n"
     ]
    }
   ],
   "source": [
    "# 1. Cosine Similarity; (1-cosine distance) gives similarity\n",
    "cosine_similarity = 1 - cosine(user1,user2)\n",
    "print(f\"Cosine Similarity: {cosine_similarity:.4f}\")"
   ]
  },
  {
   "cell_type": "code",
   "execution_count": 11,
   "id": "1c842958-036b-46b1-a257-6c4f2e811ad4",
   "metadata": {},
   "outputs": [
    {
     "name": "stdout",
     "output_type": "stream",
     "text": [
      "Pearson Correlation Similarity : 0.4372\n"
     ]
    }
   ],
   "source": [
    "#2.Pearson Correlation Similarity which returns correlation coefficient and p-value\n",
    "pearson_corr,_=pearsonr(user1,user2)\n",
    "print(f\"Pearson Correlation Similarity : {pearson_corr:.4f}\")"
   ]
  },
  {
   "cell_type": "code",
   "execution_count": 13,
   "id": "98a54f8b-26ca-4a92-96e2-f5909a7161b0",
   "metadata": {},
   "outputs": [
    {
     "name": "stdout",
     "output_type": "stream",
     "text": [
      "Euclidean Distance Similarity: 0.2743\n"
     ]
    }
   ],
   "source": [
    "#Euclidean Distance Similarity\n",
    "euclidean_distance = euclidean(user1,user2)\n",
    "euclidean_similarity = 1/(1+euclidean_distance)\n",
    "print(f\"Euclidean Distance Similarity: {euclidean_similarity:.4f}\")"
   ]
  },
  {
   "cell_type": "code",
   "execution_count": 27,
   "id": "112e35bc-a53f-4815-9260-99b8b7ee14f8",
   "metadata": {},
   "outputs": [
    {
     "name": "stdout",
     "output_type": "stream",
     "text": [
      "Cosine Similarity: 0.9297\n",
      "Cosine Similarity: 0.9783\n",
      "Cosine Similarity: 0.7990\n",
      "Cosine Similarity: 0.8855\n",
      "Cosine Similarity: 0.9191\n",
      "Cosine Similarity: 0.7260\n"
     ]
    }
   ],
   "source": [
    "#Users Rating on scale of 5\n",
    "Raju = np.array([5,3,4,4,2])\n",
    "John = np.array([3,1,2,3,3])\n",
    "Ramya = np.array([4,3,4,5,1])\n",
    "Kishore = np.array([2,2,1,2,4])\n",
    "\n",
    "#Finding Cosine Similarity between two users\n",
    "cosine_similarity1 = 1 - cosine(Raju,John)\n",
    "print(f\"Cosine Similarity: {cosine_similarity1:.4f}\")\n",
    "cosine_similarity2 = 1 - cosine(Raju,Ramya)\n",
    "print(f\"Cosine Similarity: {cosine_similarity2:.4f}\")\n",
    "cosine_similarity3 = 1 - cosine(Raju,Kishore)\n",
    "print(f\"Cosine Similarity: {cosine_similarity3:.4f}\")\n",
    "cosine_similarity4 = 1 - cosine(John,Ramya)\n",
    "print(f\"Cosine Similarity: {cosine_similarity4:.4f}\")\n",
    "cosine_similarity5 = 1 - cosine(John,Kishore)\n",
    "print(f\"Cosine Similarity: {cosine_similarity5:.4f}\")\n",
    "cosine_similarity6 = 1 - cosine(Ramya,Kishore)\n",
    "print(f\"Cosine Similarity: {cosine_similarity6:.4f}\")"
   ]
  },
  {
   "cell_type": "code",
   "execution_count": 25,
   "id": "8464ad9b-d8de-4875-9d38-46ce569447dd",
   "metadata": {},
   "outputs": [
    {
     "name": "stdout",
     "output_type": "stream",
     "text": [
      "         Bahubali  Mufasa  Interstellar  RRR  Mrs\n",
      "Raju            5       3             4    4    2\n",
      "John            3       1             2    3    3\n",
      "Ramya           4       3             4    5    1\n",
      "Kishore         2       2             1    2    4\n",
      "  User 1   User 2  Cosine Similarity  Pearson Correlation  \\\n",
      "0   Raju     John           0.929670             0.196116   \n",
      "1   Raju    Ramya           0.978337             0.838557   \n",
      "2   Raju  Kishore           0.799014            -0.720577   \n",
      "3   John    Ramya           0.885465             0.036860   \n",
      "4   John  Kishore           0.919145             0.408248   \n",
      "5  Ramya  Kishore           0.725961            -0.812605   \n",
      "\n",
      "   Euclidean Similarity  \n",
      "0              0.210897  \n",
      "1              0.366025  \n",
      "2              0.161390  \n",
      "3              0.195194  \n",
      "4              0.309017  \n",
      "5              0.150221  \n"
     ]
    }
   ],
   "source": [
    "import numpy as np\n",
    "import pandas as pd\n",
    "from scipy.spatial.distance import cosine, euclidean\n",
    "from scipy.stats import pearsonr\n",
    "\n",
    "#User-item rating matrix for 4 users\n",
    "ratings = np.array([\n",
    "    [5, 3, 4, 4, 2],  # User A\n",
    "    [3, 1, 2, 3, 3],  # User B\n",
    "    [4, 3, 4, 5, 1],  # User C\n",
    "    [2, 2, 1, 2, 4]   # User D\n",
    "])\n",
    "\n",
    "users = [\"Raju\", \"John\", \"Ramya\", \"Kishore\"]\n",
    "df = pd.DataFrame(ratings, index=users, columns=[\"Bahubali\",\"Mufasa\",\"Interstellar\",\"RRR\",\"Mrs\"])\n",
    "print(df)\n",
    "\n",
    "# Function to compute similarity\n",
    "def compute_similarity(df):\n",
    "    num_users = df.shape[0]\n",
    "    similarity_results = []\n",
    "\n",
    "    for i in range(num_users):\n",
    "        for j in range(i + 1, num_users):  # Avoid redundant pairs\n",
    "            user1, user2 = df.iloc[i], df.iloc[j]\n",
    "\n",
    "            # Cosine Similarity\n",
    "            cos_sim = 1 - cosine(user1, user2)\n",
    "\n",
    "            # Pearson Correlation Similarity\n",
    "            pearson_sim, _ = pearsonr(user1, user2)\n",
    "\n",
    "            # Euclidean Distance Similarity\n",
    "            euc_dist = euclidean(user1, user2)\n",
    "            euc_sim = 1 / (1 + euc_dist)  # Normalize to [0,1]\n",
    "\n",
    "            similarity_results.append([users[i], users[j], cos_sim, pearson_sim, euc_sim])\n",
    "\n",
    "    return pd.DataFrame(similarity_results, columns=[\"User 1\", \"User 2\", \"Cosine Similarity\", \"Pearson Correlation\", \"Euclidean Similarity\"])\n",
    "\n",
    "# Compute similarity matrix\n",
    "similarity_df = compute_similarity(df)\n",
    "\n",
    "# Display results\n",
    "print(similarity_df)"
   ]
  },
  {
   "cell_type": "code",
   "execution_count": null,
   "id": "3fc859de-4f7e-4733-88f3-15dad9c4eb85",
   "metadata": {},
   "outputs": [],
   "source": []
  }
 ],
 "metadata": {
  "kernelspec": {
   "display_name": "Python [conda env:base] *",
   "language": "python",
   "name": "conda-base-py"
  },
  "language_info": {
   "codemirror_mode": {
    "name": "ipython",
    "version": 3
   },
   "file_extension": ".py",
   "mimetype": "text/x-python",
   "name": "python",
   "nbconvert_exporter": "python",
   "pygments_lexer": "ipython3",
   "version": "3.12.7"
  }
 },
 "nbformat": 4,
 "nbformat_minor": 5
}
